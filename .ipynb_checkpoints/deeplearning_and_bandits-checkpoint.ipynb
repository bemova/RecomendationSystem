{
 "cells": [
  {
   "cell_type": "code",
   "execution_count": 49,
   "metadata": {},
   "outputs": [],
   "source": [
    "from builtins import range, input\n",
    "import pickle\n",
    "import numpy as np\n",
    "import pandas as pd\n",
    "import matplotlib.pyplot as plt\n",
    "from sklearn.utils import shuffle\n",
    "import keras.backend as K\n",
    "from keras.models import Model\n",
    "from keras.layers import Input, Embedding, Dot, Add, Flatten, Dense, Concatenate\n",
    "from keras.regularizers import l2\n",
    "from keras.optimizers import SGD, Adam\n",
    "from keras.layers import Dropout, BatchNormalization, Activation\n",
    "from scipy.sparse import lil_matrix, csr_matrix"
   ]
  },
  {
   "cell_type": "code",
   "execution_count": 64,
   "metadata": {},
   "outputs": [
    {
     "name": "stdout",
     "output_type": "stream",
     "text": [
      "userId       1000208\n",
      "movieId      1000208\n",
      "rating       1000208\n",
      "timestamp    1000208\n",
      "dtype: int64\n"
     ]
    },
    {
     "data": {
      "text/html": [
       "<div>\n",
       "<style scoped>\n",
       "    .dataframe tbody tr th:only-of-type {\n",
       "        vertical-align: middle;\n",
       "    }\n",
       "\n",
       "    .dataframe tbody tr th {\n",
       "        vertical-align: top;\n",
       "    }\n",
       "\n",
       "    .dataframe thead th {\n",
       "        text-align: right;\n",
       "    }\n",
       "</style>\n",
       "<table border=\"1\" class=\"dataframe\">\n",
       "  <thead>\n",
       "    <tr style=\"text-align: right;\">\n",
       "      <th></th>\n",
       "      <th>userId</th>\n",
       "      <th>movieId</th>\n",
       "      <th>rating</th>\n",
       "      <th>timestamp</th>\n",
       "    </tr>\n",
       "  </thead>\n",
       "  <tbody>\n",
       "    <tr>\n",
       "      <th>0</th>\n",
       "      <td>1</td>\n",
       "      <td>661</td>\n",
       "      <td>3</td>\n",
       "      <td>978302109</td>\n",
       "    </tr>\n",
       "    <tr>\n",
       "      <th>1</th>\n",
       "      <td>1</td>\n",
       "      <td>914</td>\n",
       "      <td>3</td>\n",
       "      <td>978301968</td>\n",
       "    </tr>\n",
       "    <tr>\n",
       "      <th>2</th>\n",
       "      <td>1</td>\n",
       "      <td>3408</td>\n",
       "      <td>4</td>\n",
       "      <td>978300275</td>\n",
       "    </tr>\n",
       "    <tr>\n",
       "      <th>3</th>\n",
       "      <td>1</td>\n",
       "      <td>2355</td>\n",
       "      <td>5</td>\n",
       "      <td>978824291</td>\n",
       "    </tr>\n",
       "    <tr>\n",
       "      <th>4</th>\n",
       "      <td>1</td>\n",
       "      <td>1197</td>\n",
       "      <td>3</td>\n",
       "      <td>978302268</td>\n",
       "    </tr>\n",
       "  </tbody>\n",
       "</table>\n",
       "</div>"
      ],
      "text/plain": [
       "   userId  movieId  rating  timestamp\n",
       "0       1      661       3  978302109\n",
       "1       1      914       3  978301968\n",
       "2       1     3408       4  978300275\n",
       "3       1     2355       5  978824291\n",
       "4       1     1197       3  978302268"
      ]
     },
     "execution_count": 64,
     "metadata": {},
     "output_type": "execute_result"
    }
   ],
   "source": [
    "def get_userId(info):\n",
    "    userId, movieId, rating, timestamp = info.split(\"::\")\n",
    "    return int(userId)\n",
    "\n",
    "def get_movieId(info):\n",
    "    userId, movieId, rating, timestamp = info.split(\"::\")\n",
    "    return int(movieId)\n",
    "\n",
    "def get_rating(info):\n",
    "    userId, movieId, rating, timestamp = info.split(\"::\")\n",
    "    return int(rating)\n",
    "\n",
    "def get_timestamp(info):\n",
    "    userId, movieId, rating, timestamp = info.split(\"::\")\n",
    "    return int(timestamp)\n",
    "\n",
    "# load in the data\n",
    "df = pd.read_csv('./ratings.dat')\n",
    "df.columns = ['ratings_info']\n",
    "\n",
    "df['userId'] = df.ratings_info.apply(get_userId)\n",
    "df['movieId'] = df.ratings_info.apply(get_movieId)\n",
    "df['rating'] = df.ratings_info.apply(get_rating)\n",
    "df['timestamp'] = df.ratings_info.apply(get_timestamp)\n",
    "df.drop('ratings_info', axis=1, inplace=True)\n",
    "print(df.count())\n",
    "df.head()"
   ]
  },
  {
   "cell_type": "code",
   "execution_count": 5,
   "metadata": {},
   "outputs": [],
   "source": [
    "N = df.userId.max() + 1 # number of users\n",
    "M = df.movieId.max() + 1 # number of movies\n",
    "\n",
    "# split into train and test\n",
    "df = shuffle(df)\n",
    "cutoff = int(0.8*len(df))\n",
    "df_train = df.iloc[:cutoff]\n",
    "df_test = df.iloc[cutoff:]"
   ]
  },
  {
   "cell_type": "code",
   "execution_count": 284,
   "metadata": {},
   "outputs": [],
   "source": [
    "# initialize variables\n",
    "K = 10 # latent dimensionality\n",
    "mu = df_train.rating.mean()\n",
    "epochs = 20\n",
    "reg = 0.0001 # regularization penalty\n",
    "\n",
    "\n",
    "# keras model\n",
    "u = Input(shape=(1,))\n",
    "m = Input(shape=(1,))\n",
    "u_embedding = Embedding(N, K, embeddings_regularizer=l2(reg))(u) # (N, 1, K)\n",
    "m_embedding = Embedding(M, K, embeddings_regularizer=l2(reg))(m) # (N, 1, K)\n",
    "\n",
    "\n",
    "u_bias = Embedding(N, 1, embeddings_regularizer=l2(reg))(u) # (N, 1, 1)\n",
    "m_bias = Embedding(M, 1, embeddings_regularizer=l2(reg))(m) # (N, 1, 1)\n",
    "x = Dot(axes=2)([u_embedding, m_embedding]) # (N, 1, 1)\n",
    "\n",
    "x = Add()([x, u_bias, m_bias])\n",
    "x = Flatten()(x) # (N, 1)\n",
    "\n",
    "model = Model(inputs=[u, m], outputs=x)\n",
    "model.compile(\n",
    "  loss='mse',\n",
    "  # optimizer='adam',\n",
    "  # optimizer=Adam(lr=0.01),\n",
    "  optimizer=SGD(lr=0.08, momentum=0.9),\n",
    "  metrics=['mse'],\n",
    ")"
   ]
  },
  {
   "cell_type": "code",
   "execution_count": 285,
   "metadata": {},
   "outputs": [
    {
     "name": "stdout",
     "output_type": "stream",
     "text": [
      "__________________________________________________________________________________________________\n",
      "Layer (type)                    Output Shape         Param #     Connected to                     \n",
      "==================================================================================================\n",
      "input_26 (InputLayer)           (None, 1)            0                                            \n",
      "__________________________________________________________________________________________________\n",
      "input_27 (InputLayer)           (None, 1)            0                                            \n",
      "__________________________________________________________________________________________________\n",
      "embedding_37 (Embedding)        (None, 1, 10)        60410       input_26[0][0]                   \n",
      "__________________________________________________________________________________________________\n",
      "embedding_38 (Embedding)        (None, 1, 10)        39530       input_27[0][0]                   \n",
      "__________________________________________________________________________________________________\n",
      "dot_8 (Dot)                     (None, 1, 1)         0           embedding_37[0][0]               \n",
      "                                                                 embedding_38[0][0]               \n",
      "__________________________________________________________________________________________________\n",
      "embedding_39 (Embedding)        (None, 1, 1)         6041        input_26[0][0]                   \n",
      "__________________________________________________________________________________________________\n",
      "embedding_40 (Embedding)        (None, 1, 1)         3953        input_27[0][0]                   \n",
      "__________________________________________________________________________________________________\n",
      "add_8 (Add)                     (None, 1, 1)         0           dot_8[0][0]                      \n",
      "                                                                 embedding_39[0][0]               \n",
      "                                                                 embedding_40[0][0]               \n",
      "__________________________________________________________________________________________________\n",
      "flatten_16 (Flatten)            (None, 1)            0           add_8[0][0]                      \n",
      "==================================================================================================\n",
      "Total params: 109,934\n",
      "Trainable params: 109,934\n",
      "Non-trainable params: 0\n",
      "__________________________________________________________________________________________________\n"
     ]
    }
   ],
   "source": [
    "model.summary()"
   ]
  },
  {
   "cell_type": "code",
   "execution_count": 25,
   "metadata": {},
   "outputs": [
    {
     "name": "stdout",
     "output_type": "stream",
     "text": [
      "Train on 800166 samples, validate on 200042 samples\n",
      "Epoch 1/20\n",
      "800166/800166 [==============================] - 53s 66us/step - loss: 0.9667 - mean_squared_error: 0.9222 - val_loss: 0.9348 - val_mean_squared_error: 0.8736\n",
      "Epoch 2/20\n",
      "800166/800166 [==============================] - 46s 57us/step - loss: 0.9301 - mean_squared_error: 0.8652 - val_loss: 0.9333 - val_mean_squared_error: 0.8665\n",
      "Epoch 3/20\n",
      "800166/800166 [==============================] - 47s 59us/step - loss: 0.9292 - mean_squared_error: 0.8617 - val_loss: 0.9330 - val_mean_squared_error: 0.8659\n",
      "Epoch 4/20\n",
      "800166/800166 [==============================] - 49s 61us/step - loss: 0.9293 - mean_squared_error: 0.8615 - val_loss: 0.9331 - val_mean_squared_error: 0.8653\n",
      "Epoch 5/20\n",
      "800166/800166 [==============================] - 51s 64us/step - loss: 0.9292 - mean_squared_error: 0.8613 - val_loss: 0.9331 - val_mean_squared_error: 0.8652\n",
      "Epoch 6/20\n",
      "800166/800166 [==============================] - 49s 61us/step - loss: 0.9292 - mean_squared_error: 0.8611 - val_loss: 0.9318 - val_mean_squared_error: 0.8642\n",
      "Epoch 7/20\n",
      "800166/800166 [==============================] - 51s 63us/step - loss: 0.9291 - mean_squared_error: 0.8612 - val_loss: 0.9333 - val_mean_squared_error: 0.8655\n",
      "Epoch 8/20\n",
      "800166/800166 [==============================] - 49s 61us/step - loss: 0.9292 - mean_squared_error: 0.8611 - val_loss: 0.9332 - val_mean_squared_error: 0.8654\n",
      "Epoch 9/20\n",
      "800166/800166 [==============================] - 48s 61us/step - loss: 0.9292 - mean_squared_error: 0.8611 - val_loss: 0.9331 - val_mean_squared_error: 0.8655\n",
      "Epoch 10/20\n",
      "800166/800166 [==============================] - 50s 62us/step - loss: 0.9292 - mean_squared_error: 0.8613 - val_loss: 0.9335 - val_mean_squared_error: 0.8650\n",
      "Epoch 11/20\n",
      "800166/800166 [==============================] - 50s 63us/step - loss: 0.9291 - mean_squared_error: 0.8609 - val_loss: 0.9332 - val_mean_squared_error: 0.8652\n",
      "Epoch 12/20\n",
      "800166/800166 [==============================] - 49s 61us/step - loss: 0.9291 - mean_squared_error: 0.8611 - val_loss: 0.9331 - val_mean_squared_error: 0.8652\n",
      "Epoch 13/20\n",
      "800166/800166 [==============================] - 49s 62us/step - loss: 0.9292 - mean_squared_error: 0.8611 - val_loss: 0.9321 - val_mean_squared_error: 0.8642\n",
      "Epoch 14/20\n",
      "800166/800166 [==============================] - 51s 64us/step - loss: 0.9290 - mean_squared_error: 0.8608 - val_loss: 0.9330 - val_mean_squared_error: 0.8653\n",
      "Epoch 15/20\n",
      "800166/800166 [==============================] - 49s 61us/step - loss: 0.9292 - mean_squared_error: 0.8611 - val_loss: 0.9324 - val_mean_squared_error: 0.8645\n",
      "Epoch 16/20\n",
      "800166/800166 [==============================] - 49s 62us/step - loss: 0.9290 - mean_squared_error: 0.8608 - val_loss: 0.9333 - val_mean_squared_error: 0.8651\n",
      "Epoch 17/20\n",
      "800166/800166 [==============================] - 50s 62us/step - loss: 0.9290 - mean_squared_error: 0.8606 - val_loss: 0.9336 - val_mean_squared_error: 0.8656\n",
      "Epoch 18/20\n",
      "800166/800166 [==============================] - 55s 68us/step - loss: 0.9292 - mean_squared_error: 0.8607 - val_loss: 0.9325 - val_mean_squared_error: 0.8646\n",
      "Epoch 19/20\n",
      "800166/800166 [==============================] - 51s 63us/step - loss: 0.9291 - mean_squared_error: 0.8606 - val_loss: 0.9329 - val_mean_squared_error: 0.8650\n",
      "Epoch 20/20\n",
      "800166/800166 [==============================] - 52s 66us/step - loss: 0.9290 - mean_squared_error: 0.8603 - val_loss: 0.9331 - val_mean_squared_error: 0.8650\n"
     ]
    }
   ],
   "source": [
    "r = model.fit(\n",
    "  x=[df_train.userId.values, df_train.movieId.values],\n",
    "  y=df_train.rating.values - mu,\n",
    "  epochs=epochs,\n",
    "  batch_size=128,\n",
    "  validation_data=(\n",
    "    [df_test.userId.values, df_test.movieId.values],\n",
    "    df_test.rating.values - mu\n",
    "  )\n",
    ")"
   ]
  },
  {
   "cell_type": "code",
   "execution_count": 26,
   "metadata": {},
   "outputs": [
    {
     "data": {
      "text/plain": [
       "<matplotlib.legend.Legend at 0x1834e03780>"
      ]
     },
     "execution_count": 26,
     "metadata": {},
     "output_type": "execute_result"
    },
    {
     "data": {
      "image/png": "[encoded data removed]",
      "text/plain": [
       "<matplotlib.figure.Figure at 0x1834dea208>"
      ]
     },
     "metadata": {},
     "output_type": "display_data"
    }
   ],
   "source": [
    "# plot losses\n",
    "plt.plot(r.history['loss'], label=\"train loss\")\n",
    "plt.plot(r.history['val_loss'], label=\"test loss\")\n",
    "plt.legend()\n"
   ]
  },
  {
   "cell_type": "code",
   "execution_count": 27,
   "metadata": {},
   "outputs": [
    {
     "data": {
      "text/plain": [
       "<matplotlib.legend.Legend at 0x1835251390>"
      ]
     },
     "execution_count": 27,
     "metadata": {},
     "output_type": "execute_result"
    },
    {
     "data": {
      "image/png": "[encoded data removed]",
      "text/plain": [
       "<matplotlib.figure.Figure at 0x1834725518>"
      ]
     },
     "metadata": {},
     "output_type": "display_data"
    }
   ],
   "source": [
    "# plot mse\n",
    "plt.plot(r.history['mean_squared_error'], label=\"train mse\")\n",
    "plt.plot(r.history['val_mean_squared_error'], label=\"test mse\")\n",
    "plt.legend()\n"
   ]
  },
  {
   "cell_type": "markdown",
   "metadata": {},
   "source": [
    "## deep learning model"
   ]
  },
  {
   "cell_type": "code",
   "execution_count": 34,
   "metadata": {},
   "outputs": [],
   "source": [
    "# keras model\n",
    "u = Input(shape=(1,))\n",
    "m = Input(shape=(1,))\n",
    "u_embedding = Embedding(N, K)(u) # (N, 1, K)\n",
    "m_embedding = Embedding(M, K)(m) # (N, 1, K)\n",
    "u_embedding = Flatten()(u_embedding) # (N, K)\n",
    "m_embedding = Flatten()(m_embedding) # (N, K)\n",
    "x = Concatenate()([u_embedding, m_embedding]) # (N, 2K)\n",
    "\n",
    "# the neural network\n",
    "x = Dense(400)(x)\n",
    "x = Activation('relu')(x)\n",
    "x = Dense(1)(x)\n",
    "\n",
    "model_deep = Model(inputs=[u, m], outputs=x)"
   ]
  },
  {
   "cell_type": "code",
   "execution_count": 35,
   "metadata": {},
   "outputs": [],
   "source": [
    "model_deep.compile(\n",
    "  loss='mse',\n",
    "  # optimizer='adam',\n",
    "  # optimizer=Adam(lr=0.01),\n",
    "  optimizer=SGD(lr=0.08, momentum=0.9),\n",
    "  metrics=['mse'],\n",
    ")"
   ]
  },
  {
   "cell_type": "code",
   "execution_count": 37,
   "metadata": {},
   "outputs": [
    {
     "name": "stdout",
     "output_type": "stream",
     "text": [
      "Train on 800166 samples, validate on 200042 samples\n",
      "Epoch 1/20\n",
      "800166/800166 [==============================] - 71s 89us/step - loss: 0.8794 - mean_squared_error: 0.8794 - val_loss: 0.8269 - val_mean_squared_error: 0.8269\n",
      "Epoch 2/20\n",
      "800166/800166 [==============================] - 63s 78us/step - loss: 0.8144 - mean_squared_error: 0.8144 - val_loss: 0.8052 - val_mean_squared_error: 0.8052\n",
      "Epoch 3/20\n",
      "800166/800166 [==============================] - 63s 78us/step - loss: 0.7899 - mean_squared_error: 0.7899 - val_loss: 0.8076 - val_mean_squared_error: 0.8076\n",
      "Epoch 4/20\n",
      "800166/800166 [==============================] - 63s 78us/step - loss: 0.7730 - mean_squared_error: 0.7730 - val_loss: 0.7859 - val_mean_squared_error: 0.7859\n",
      "Epoch 5/20\n",
      "800166/800166 [==============================] - 62s 78us/step - loss: 0.7639 - mean_squared_error: 0.7639 - val_loss: 0.7828 - val_mean_squared_error: 0.7828\n",
      "Epoch 6/20\n",
      "800166/800166 [==============================] - 61s 77us/step - loss: 0.7553 - mean_squared_error: 0.7553 - val_loss: 0.7741 - val_mean_squared_error: 0.7741\n",
      "Epoch 7/20\n",
      "800166/800166 [==============================] - 59s 74us/step - loss: 0.7465 - mean_squared_error: 0.7465 - val_loss: 0.7758 - val_mean_squared_error: 0.7758\n",
      "Epoch 8/20\n",
      "800166/800166 [==============================] - 61s 76us/step - loss: 0.7359 - mean_squared_error: 0.7359 - val_loss: 0.7708 - val_mean_squared_error: 0.7708\n",
      "Epoch 9/20\n",
      "800166/800166 [==============================] - 62s 78us/step - loss: 0.7281 - mean_squared_error: 0.7281 - val_loss: 0.7721 - val_mean_squared_error: 0.7721\n",
      "Epoch 10/20\n",
      "800166/800166 [==============================] - 63s 79us/step - loss: 0.7196 - mean_squared_error: 0.7196 - val_loss: 0.7780 - val_mean_squared_error: 0.7780\n",
      "Epoch 11/20\n",
      "800166/800166 [==============================] - 62s 78us/step - loss: 0.7124 - mean_squared_error: 0.7124 - val_loss: 0.7684 - val_mean_squared_error: 0.7684\n",
      "Epoch 12/20\n",
      "800166/800166 [==============================] - 63s 78us/step - loss: 0.7036 - mean_squared_error: 0.7036 - val_loss: 0.7658 - val_mean_squared_error: 0.7658\n",
      "Epoch 13/20\n",
      "800166/800166 [==============================] - 63s 79us/step - loss: 0.6957 - mean_squared_error: 0.6957 - val_loss: 0.7625 - val_mean_squared_error: 0.7625\n",
      "Epoch 14/20\n",
      "800166/800166 [==============================] - 63s 78us/step - loss: 0.6878 - mean_squared_error: 0.6878 - val_loss: 0.7843 - val_mean_squared_error: 0.7843\n",
      "Epoch 15/20\n",
      "800166/800166 [==============================] - 64s 80us/step - loss: 0.6814 - mean_squared_error: 0.6814 - val_loss: 0.7799 - val_mean_squared_error: 0.7799\n",
      "Epoch 16/20\n",
      "800166/800166 [==============================] - 65s 81us/step - loss: 0.6743 - mean_squared_error: 0.6743 - val_loss: 0.7693 - val_mean_squared_error: 0.7693\n",
      "Epoch 17/20\n",
      "800166/800166 [==============================] - 64s 80us/step - loss: 0.6688 - mean_squared_error: 0.6688 - val_loss: 0.7651 - val_mean_squared_error: 0.7651\n",
      "Epoch 18/20\n",
      "800166/800166 [==============================] - 60s 75us/step - loss: 0.6634 - mean_squared_error: 0.6634 - val_loss: 0.7827 - val_mean_squared_error: 0.7827\n",
      "Epoch 19/20\n",
      "800166/800166 [==============================] - 63s 79us/step - loss: 0.6594 - mean_squared_error: 0.6594 - val_loss: 0.7838 - val_mean_squared_error: 0.7838\n",
      "Epoch 20/20\n",
      "800166/800166 [==============================] - 61s 77us/step - loss: 0.6555 - mean_squared_error: 0.6555 - val_loss: 0.7817 - val_mean_squared_error: 0.7817\n"
     ]
    }
   ],
   "source": [
    "r_deep = model_deep.fit(\n",
    "  x=[df_train.userId.values, df_train.movieId.values],\n",
    "  y=df_train.rating.values - mu,\n",
    "  epochs=epochs,\n",
    "  batch_size=128,\n",
    "  validation_data=(\n",
    "    [df_test.userId.values, df_test.movieId.values],\n",
    "    df_test.rating.values - mu\n",
    "  )\n",
    ")\n"
   ]
  },
  {
   "cell_type": "code",
   "execution_count": 39,
   "metadata": {},
   "outputs": [
    {
     "data": {
      "text/plain": [
       "<matplotlib.legend.Legend at 0x1837dca898>"
      ]
     },
     "execution_count": 39,
     "metadata": {},
     "output_type": "execute_result"
    },
    {
     "data": {
      "image/png": "[encoded data removed]",
      "text/plain": [
       "<matplotlib.figure.Figure at 0x1837dbb668>"
      ]
     },
     "metadata": {},
     "output_type": "display_data"
    }
   ],
   "source": [
    "# plot losses\n",
    "plt.plot(r_deep.history['loss'], label=\"train loss\")\n",
    "plt.plot(r_deep.history['val_loss'], label=\"test loss\")\n",
    "plt.legend()\n",
    "\n"
   ]
  },
  {
   "cell_type": "code",
   "execution_count": 40,
   "metadata": {},
   "outputs": [
    {
     "data": {
      "text/plain": [
       "<matplotlib.legend.Legend at 0x183427bef0>"
      ]
     },
     "execution_count": 40,
     "metadata": {},
     "output_type": "execute_result"
    },
    {
     "data": {
      "image/png": "[encoded data removed]",
      "text/plain": [
       "<matplotlib.figure.Figure at 0x1837dbbc88>"
      ]
     },
     "metadata": {},
     "output_type": "display_data"
    }
   ],
   "source": [
    "# plot mse\n",
    "plt.plot(r_deep.history['mean_squared_error'], label=\"train mse\")\n",
    "plt.plot(r_deep.history['val_mean_squared_error'], label=\"test mse\")\n",
    "plt.legend()\n"
   ]
  },
  {
   "cell_type": "markdown",
   "metadata": {},
   "source": [
    "## Using Autoencoder for recomendation(Autorec paper)"
   ]
  },
  {
   "cell_type": "markdown",
   "metadata": {},
   "source": [
    "### preprocessing "
   ]
  },
  {
   "cell_type": "code",
   "execution_count": 44,
   "metadata": {},
   "outputs": [
    {
     "name": "stdout",
     "output_type": "stream",
     "text": [
      "processed: 0.125\n",
      "processed: 0.250\n",
      "processed: 0.375\n",
      "processed: 0.500\n",
      "processed: 0.625\n",
      "processed: 0.750\n",
      "processed: 0.875\n",
      "processed: 1.000\n",
      "processed: 0.500\n",
      "processed: 1.000\n"
     ]
    }
   ],
   "source": [
    "data = lil_matrix((N, M))\n",
    "count = 0\n",
    "def update_train(row):\n",
    "    global count\n",
    "    count += 1\n",
    "    if count % 100000 == 0:\n",
    "        print(\"processed: %.3f\" % (float(count)/cutoff))\n",
    "\n",
    "    i = int(row.userId)\n",
    "    j = int(row.movieId)\n",
    "    data[i,j] = row.rating\n",
    "    \n",
    "df_train.apply(update_train, axis=1)\n",
    "\n",
    "data = data.tocsr()\n",
    "mask = (data > 0)\n",
    "\n",
    "data_test = lil_matrix((N, M))\n",
    "count = 0\n",
    "def update_test(row):\n",
    "    global count\n",
    "    count += 1\n",
    "    if count % 100000 == 0:\n",
    "        print(\"processed: %.3f\" % (float(count)/len(df_test)))\n",
    "\n",
    "    i = int(row.userId)\n",
    "    j = int(row.movieId)\n",
    "    data_test[i,j] = row.rating\n",
    "    \n",
    "df_test.apply(update_test, axis=1)\n",
    "data_test = data_test.tocsr()\n",
    "mask_test = (data_test > 0)\n"
   ]
  },
  {
   "cell_type": "markdown",
   "metadata": {},
   "source": [
    "### configuration"
   ]
  },
  {
   "cell_type": "code",
   "execution_count": 53,
   "metadata": {},
   "outputs": [
    {
     "name": "stdout",
     "output_type": "stream",
     "text": [
      "N: 6041 M: 3953\n",
      "N // batch_size: 47\n",
      "mu: 3.5812781347870315\n"
     ]
    }
   ],
   "source": [
    "batch_size = 128\n",
    "epochs = 20\n",
    "reg = 0.0001\n",
    "mask = (data > 0) * 1.0\n",
    "mask_test = (data_test > 0) * 1.0\n",
    "\n",
    "# make copies \n",
    "data_copy = data.copy()\n",
    "mask_copy = mask.copy()\n",
    "data_test_copy = data_test.copy()\n",
    "mask_test_copy = mask_test.copy()\n",
    "\n",
    "N, M = data.shape\n",
    "print(\"N:\", N, \"M:\", M)\n",
    "print(\"N // batch_size:\", N // batch_size)\n",
    "\n",
    "# center the data\n",
    "mu = data.sum() / mask.sum()\n",
    "print(\"mu:\", mu)"
   ]
  },
  {
   "cell_type": "code",
   "execution_count": 54,
   "metadata": {},
   "outputs": [],
   "source": [
    "i = Input(shape=(M,))\n",
    "# 1 hidden layer autoencoder\n",
    "x = Dropout(0.7)(i)\n",
    "x = Dense(700, activation='tanh', kernel_regularizer=l2(reg))(x)\n",
    "x = Dense(M, kernel_regularizer=l2(reg))(x)\n"
   ]
  },
  {
   "cell_type": "code",
   "execution_count": 55,
   "metadata": {},
   "outputs": [],
   "source": [
    "def custom_loss(y_true, y_pred):\n",
    "    mask = K.cast(K.not_equal(y_true, 0), dtype='float32')\n",
    "    diff = y_pred - y_true\n",
    "    sqdiff = diff * diff * mask\n",
    "    sse = K.sum(K.sum(sqdiff))\n",
    "    n = K.sum(K.sum(mask))\n",
    "    return sse / n\n",
    "\n",
    "def generator(data, M):\n",
    "    while True:\n",
    "        data, M = shuffle(data, M)\n",
    "        for i in range(data.shape[0] // batch_size + 1):\n",
    "            upper = min((i+1)*batch_size, data.shape[0])\n",
    "            a = data[i*batch_size:upper].toarray()\n",
    "            m = M[i*batch_size:upper].toarray()\n",
    "            a = a - mu * m \n",
    "            noisy = a # no noise\n",
    "            yield noisy, a\n",
    "\n",
    "\n",
    "def test_generator(data, M, data_test, M_test):\n",
    "    while True:\n",
    "        for i in range(data.shape[0] // batch_size + 1):\n",
    "            upper = min((i+1)*batch_size, data.shape[0])\n",
    "            a = data[i*batch_size:upper].toarray()\n",
    "            m = M[i*batch_size:upper].toarray()\n",
    "            at = data_test[i*batch_size:upper].toarray()\n",
    "            mt = M_test[i*batch_size:upper].toarray()\n",
    "            a = a - mu * m\n",
    "            at = at - mu * mt\n",
    "            yield a, at"
   ]
  },
  {
   "cell_type": "code",
   "execution_count": 56,
   "metadata": {},
   "outputs": [],
   "source": [
    "model = Model(i, x)"
   ]
  },
  {
   "cell_type": "code",
   "execution_count": 57,
   "metadata": {},
   "outputs": [],
   "source": [
    "model.compile(\n",
    "  loss=custom_loss,\n",
    "  optimizer=SGD(lr=0.08, momentum=0.9),\n",
    "  metrics=[custom_loss],\n",
    ")"
   ]
  },
  {
   "cell_type": "code",
   "execution_count": 58,
   "metadata": {},
   "outputs": [
    {
     "name": "stdout",
     "output_type": "stream",
     "text": [
      "Epoch 1/20\n",
      "48/48 [==============================] - 114s 2s/step - loss: 1.4462 - custom_loss: 1.2099 - val_loss: 1.2777 - val_custom_loss: 1.0431\n",
      "Epoch 2/20\n",
      "48/48 [==============================] - 107s 2s/step - loss: 1.1964 - custom_loss: 0.9633 - val_loss: 1.1447 - val_custom_loss: 0.9131\n",
      "Epoch 3/20\n",
      "48/48 [==============================] - 110s 2s/step - loss: 1.0801 - custom_loss: 0.8500 - val_loss: 1.1010 - val_custom_loss: 0.8724\n",
      "Epoch 4/20\n",
      "48/48 [==============================] - 104s 2s/step - loss: 1.0311 - custom_loss: 0.8040 - val_loss: 1.0773 - val_custom_loss: 0.8518\n",
      "Epoch 5/20\n",
      "48/48 [==============================] - 104s 2s/step - loss: 0.9853 - custom_loss: 0.7611 - val_loss: 1.0601 - val_custom_loss: 0.8373\n",
      "Epoch 6/20\n",
      "48/48 [==============================] - 104s 2s/step - loss: 0.9598 - custom_loss: 0.7383 - val_loss: 1.0472 - val_custom_loss: 0.8271\n",
      "Epoch 7/20\n",
      "48/48 [==============================] - 104s 2s/step - loss: 0.9306 - custom_loss: 0.7117 - val_loss: 1.0356 - val_custom_loss: 0.8180\n",
      "Epoch 8/20\n",
      "48/48 [==============================] - 104s 2s/step - loss: 0.9129 - custom_loss: 0.6965 - val_loss: 1.0262 - val_custom_loss: 0.8111\n",
      "Epoch 9/20\n",
      "48/48 [==============================] - 104s 2s/step - loss: 0.8915 - custom_loss: 0.6775 - val_loss: 1.0180 - val_custom_loss: 0.8053\n",
      "Epoch 10/20\n",
      "48/48 [==============================] - 105s 2s/step - loss: 0.8756 - custom_loss: 0.6639 - val_loss: 1.0107 - val_custom_loss: 0.8002\n",
      "Epoch 11/20\n",
      "48/48 [==============================] - 103s 2s/step - loss: 0.8586 - custom_loss: 0.6492 - val_loss: 1.0049 - val_custom_loss: 0.7965\n",
      "Epoch 12/20\n",
      "48/48 [==============================] - 103s 2s/step - loss: 0.8471 - custom_loss: 0.6398 - val_loss: 0.9992 - val_custom_loss: 0.7930\n",
      "Epoch 13/20\n",
      "48/48 [==============================] - 103s 2s/step - loss: 0.8310 - custom_loss: 0.6257 - val_loss: 0.9948 - val_custom_loss: 0.7905\n",
      "Epoch 14/20\n",
      "48/48 [==============================] - 112s 2s/step - loss: 0.8172 - custom_loss: 0.6139 - val_loss: 0.9900 - val_custom_loss: 0.7877\n",
      "Epoch 15/20\n",
      "48/48 [==============================] - 109s 2s/step - loss: 0.8044 - custom_loss: 0.6030 - val_loss: 0.9855 - val_custom_loss: 0.7851\n",
      "Epoch 16/20\n",
      "48/48 [==============================] - 111s 2s/step - loss: 0.7945 - custom_loss: 0.5951 - val_loss: 0.9816 - val_custom_loss: 0.7831\n",
      "Epoch 17/20\n",
      "48/48 [==============================] - 106s 2s/step - loss: 0.7845 - custom_loss: 0.5868 - val_loss: 0.9787 - val_custom_loss: 0.7820\n",
      "Epoch 18/20\n",
      "48/48 [==============================] - 123s 3s/step - loss: 0.7729 - custom_loss: 0.5770 - val_loss: 0.9757 - val_custom_loss: 0.7806\n",
      "Epoch 19/20\n",
      "48/48 [==============================] - 103s 2s/step - loss: 0.7641 - custom_loss: 0.5699 - val_loss: 0.9730 - val_custom_loss: 0.7796\n",
      "Epoch 20/20\n",
      "48/48 [==============================] - 115s 2s/step - loss: 0.7549 - custom_loss: 0.5623 - val_loss: 0.9699 - val_custom_loss: 0.7782\n",
      "dict_keys(['val_custom_loss', 'loss', 'val_loss', 'custom_loss'])\n"
     ]
    }
   ],
   "source": [
    "r_autorec = model.fit_generator(\n",
    "  generator(data, mask),\n",
    "  validation_data=test_generator(data_copy, mask_copy, data_test_copy, mask_test_copy),\n",
    "  epochs=epochs,\n",
    "  steps_per_epoch=data.shape[0] // batch_size + 1,\n",
    "  validation_steps=data_test.shape[0] // batch_size + 1,\n",
    ")\n",
    "print(r_autorec.history.keys())\n",
    "\n"
   ]
  },
  {
   "cell_type": "code",
   "execution_count": 59,
   "metadata": {},
   "outputs": [
    {
     "data": {
      "text/plain": [
       "<matplotlib.legend.Legend at 0x183d6306d8>"
      ]
     },
     "execution_count": 59,
     "metadata": {},
     "output_type": "execute_result"
    },
    {
     "data": {
      "image/png": "[encoded data removed]",
      "text/plain": [
       "<matplotlib.figure.Figure at 0x1834293940>"
      ]
     },
     "metadata": {},
     "output_type": "display_data"
    }
   ],
   "source": [
    "# plot losses\n",
    "plt.plot(r.history['loss'], label=\"train loss\")\n",
    "plt.plot(r.history['val_loss'], label=\"test loss\")\n",
    "plt.legend()\n"
   ]
  },
  {
   "cell_type": "code",
   "execution_count": 61,
   "metadata": {},
   "outputs": [
    {
     "data": {
      "text/plain": [
       "<matplotlib.legend.Legend at 0x183171bcc0>"
      ]
     },
     "execution_count": 61,
     "metadata": {},
     "output_type": "execute_result"
    },
    {
     "data": {
      "image/png": "[encoded data removed]",
      "text/plain": [
       "<matplotlib.figure.Figure at 0x183527a9b0>"
      ]
     },
     "metadata": {},
     "output_type": "display_data"
    }
   ],
   "source": [
    "# plot mse\n",
    "plt.plot(r_autorec.history['custom_loss'], label=\"train mse\")\n",
    "plt.plot(r_autorec.history['val_custom_loss'], label=\"test mse\")\n",
    "plt.legend()\n"
   ]
  },
  {
   "cell_type": "markdown",
   "metadata": {},
   "source": [
    "## conclusion:"
   ]
  },
  {
   "cell_type": "code",
   "execution_count": 62,
   "metadata": {},
   "outputs": [
    {
     "data": {
      "text/plain": [
       "<matplotlib.legend.Legend at 0x18317c4cc0>"
      ]
     },
     "execution_count": 62,
     "metadata": {},
     "output_type": "execute_result"
    },
    {
     "data": {
      "image/png": "[encoded data removed]",
      "text/plain": [
       "<matplotlib.figure.Figure at 0x183197af28>"
      ]
     },
     "metadata": {},
     "output_type": "display_data"
    }
   ],
   "source": [
    "plt.plot(r_autorec.history['val_custom_loss'], label=\"Autorec mse\")\n",
    "plt.plot(r_deep.history['val_mean_squared_error'], label=\"deep learning mse\")\n",
    "plt.plot(r.history['val_mean_squared_error'], label=\"Matrix factorization mse\")\n",
    "plt.legend()"
   ]
  },
  {
   "cell_type": "code",
   "execution_count": 63,
   "metadata": {},
   "outputs": [
    {
     "data": {
      "text/plain": [
       "<matplotlib.legend.Legend at 0x18318d00f0>"
      ]
     },
     "execution_count": 63,
     "metadata": {},
     "output_type": "execute_result"
    },
    {
     "data": {
      "image/png": "[encoded data removed]",
      "text/plain": [
       "<matplotlib.figure.Figure at 0x18317b26d8>"
      ]
     },
     "metadata": {},
     "output_type": "display_data"
    }
   ],
   "source": [
    "plt.plot(r_autorec.history['custom_loss'], label=\"Autorec mse\")\n",
    "plt.plot(r_deep.history['mean_squared_error'], label=\"deep learning mse\")\n",
    "plt.plot(r.history['mean_squared_error'], label=\"Matrix factorization mse\")\n",
    "plt.legend()"
   ]
  },
  {
   "cell_type": "markdown",
   "metadata": {},
   "source": [
    "## LinUCB for cold start"
   ]
  },
  {
   "cell_type": "code",
   "execution_count": 225,
   "metadata": {},
   "outputs": [],
   "source": [
    "DATA_DIR = 'data'\n",
    "DATASET_NAME = 'movielens'\n",
    "ENCODING = 'utf-8'\n",
    "STRING_ENCODING = 'ISO-8859-1'\n",
    "\n",
    "pos_rating_threshold=4\n",
    "data_augmentation_mode='binary_unknown'\n",
    "np.random.seed(0)\n",
    "variant = 'ml-1m'\n",
    "UNKNOWN_RATING_VAL = 0\n",
    "POSITIVE_RATING_VAL = 1\n",
    "NEGATIVE_RATING_VAL = -1\n",
    "data_augmentation_mode = data_augmentation_mode\n",
    "pos_rating_threshold = pos_rating_threshold \n"
   ]
  },
  {
   "cell_type": "code",
   "execution_count": 226,
   "metadata": {},
   "outputs": [
    {
     "data": {
      "text/plain": [
       "(6040, 3952, 1000209)"
      ]
     },
     "execution_count": 226,
     "metadata": {},
     "output_type": "execute_result"
    }
   ],
   "source": [
    "filepath = './ml-1m/u.info'\n",
    "with open(filepath, encoding=ENCODING) as f:\n",
    "    num_users = int(f.readline().split(' ')[0])\n",
    "    num_items = int(f.readline().split(' ')[0])\n",
    "    num_ratings = int(f.readline().split(' ')[0])\n",
    "num_users, num_items, num_ratings"
   ]
  },
  {
   "cell_type": "code",
   "execution_count": 227,
   "metadata": {},
   "outputs": [
    {
     "data": {
      "text/plain": [
       "(['unknown',\n",
       "  'Action',\n",
       "  'Adventure',\n",
       "  'Animation',\n",
       "  \"Children's\",\n",
       "  'Comedy',\n",
       "  'Crime',\n",
       "  'Documentary',\n",
       "  'Drama',\n",
       "  'Fantasy',\n",
       "  'Film-Noir',\n",
       "  'Horror',\n",
       "  'Musical',\n",
       "  'Mystery',\n",
       "  'Romance',\n",
       "  'Sci-Fi',\n",
       "  'Thriller',\n",
       "  'War',\n",
       "  'Western'],\n",
       " {'Action': 1,\n",
       "  'Adventure': 2,\n",
       "  'Animation': 3,\n",
       "  \"Children's\": 4,\n",
       "  'Comedy': 5,\n",
       "  'Crime': 6,\n",
       "  'Documentary': 7,\n",
       "  'Drama': 8,\n",
       "  'Fantasy': 9,\n",
       "  'Film-Noir': 10,\n",
       "  'Horror': 11,\n",
       "  'Musical': 12,\n",
       "  'Mystery': 13,\n",
       "  'Romance': 14,\n",
       "  'Sci-Fi': 15,\n",
       "  'Thriller': 16,\n",
       "  'War': 17,\n",
       "  'Western': 18,\n",
       "  'unknown': 0})"
      ]
     },
     "execution_count": 227,
     "metadata": {},
     "output_type": "execute_result"
    }
   ],
   "source": [
    "genre_names = {'unknown': 0, 'Action': 1,'Adventure': 2, 'Animation': 3,\n",
    "                       'Children\\'s': 4, 'Comedy':5, 'Crime': 6, 'Documentary': 7,\n",
    "                       'Drama': 8, 'Fantasy': 9, 'Film-Noir': 10, 'Horror': 11,\n",
    "                       'Musical': 12, 'Mystery':13, 'Romance': 14, 'Sci-Fi': 15,'Thriller':16,\n",
    "                       'War':17, 'Western':18}\n",
    "\n",
    "filepath = './ml-1m/u.genre'\n",
    "with open(filepath, encoding=ENCODING) as f:\n",
    "    genre = [x.strip().split('|')[0] for x in f.readlines()]\n",
    "    genre = [x for x in genres if len(x) > 0]\n",
    "\n",
    "genre, genre_names \n",
    "   "
   ]
  },
  {
   "cell_type": "code",
   "execution_count": 228,
   "metadata": {},
   "outputs": [
    {
     "name": "stdout",
     "output_type": "stream",
     "text": [
      "rating matrix of shape=(6040, 3952)\n"
     ]
    },
    {
     "data": {
      "text/plain": [
       "(array([[5., 0., 0., ..., 0., 0., 0.],\n",
       "        [0., 0., 0., ..., 0., 0., 0.],\n",
       "        [0., 0., 0., ..., 0., 0., 0.],\n",
       "        ...,\n",
       "        [0., 0., 0., ..., 0., 0., 0.],\n",
       "        [0., 0., 0., ..., 0., 0., 0.],\n",
       "        [3., 0., 0., ..., 0., 0., 0.]]),\n",
       " array([[        0,      1192,         5, 978300760],\n",
       "        [        0,       660,         3, 978302109],\n",
       "        [        0,       913,         3, 978301968],\n",
       "        ...,\n",
       "        [     6039,       561,         5, 956704746],\n",
       "        [     6039,      1095,         4, 956715648],\n",
       "        [     6039,      1096,         4, 956715569]]))"
      ]
     },
     "execution_count": 228,
     "metadata": {},
     "output_type": "execute_result"
    }
   ],
   "source": [
    "orig_r_user_item = np.zeros(shape=(num_users, num_items), dtype=float)\n",
    "ratings = np.zeros(shape=(num_ratings, 4), dtype=int)\n",
    "\n",
    "filepath = './ml-1m/ratings.dat'\n",
    "line_idx = 0\n",
    "with open(filepath, encoding=ENCODING) as f:\n",
    "    for line in f:\n",
    "        chunks = line.split('::')\n",
    "        # change Ids to start from zero\n",
    "        user_id = int(chunks[0]) - 1  \n",
    "        item_id = int(chunks[1]) - 1\n",
    "        rating = int(chunks[2])\n",
    "        timestamp = int(chunks[3])\n",
    "\n",
    "        ratings[line_idx] = np.array([user_id, item_id, rating, timestamp])\n",
    "        orig_r_user_item[user_id, item_id] = rating\n",
    "        line_idx += 1\n",
    "\n",
    "print(\"rating matrix of shape={}\".format(r.shape, r.dtype, filepath))\n",
    "orig_r_user_item, ratings\n",
    "\n"
   ]
  },
  {
   "cell_type": "code",
   "execution_count": 229,
   "metadata": {},
   "outputs": [
    {
     "name": "stdout",
     "output_type": "stream",
     "text": [
      " number of genres:  19\n"
     ]
    }
   ],
   "source": [
    "num_genres = len(genres)\n",
    "print(\" number of genres: \", num_genres)"
   ]
  },
  {
   "cell_type": "code",
   "execution_count": 230,
   "metadata": {},
   "outputs": [
    {
     "name": "stdout",
     "output_type": "stream",
     "text": [
      "Positive ratings (>=4) turned to 1, negative to -1, unknown to 0\n"
     ]
    },
    {
     "data": {
      "text/plain": [
       "(array([[ 1.,  0.,  0., ...,  0.,  0.,  0.],\n",
       "        [ 0.,  0.,  0., ...,  0.,  0.,  0.],\n",
       "        [ 0.,  0.,  0., ...,  0.,  0.,  0.],\n",
       "        ...,\n",
       "        [ 0.,  0.,  0., ...,  0.,  0.,  0.],\n",
       "        [ 0.,  0.,  0., ...,  0.,  0.,  0.],\n",
       "        [-1.,  0.,  0., ...,  0.,  0.,  0.]]),\n",
       " array([[ True, False, False, ..., False, False, False],\n",
       "        [False, False, False, ..., False, False, False],\n",
       "        [False, False, False, ..., False, False, False],\n",
       "        ...,\n",
       "        [False, False, False, ..., False, False, False],\n",
       "        [False, False, False, ..., False, False, False],\n",
       "        [ True, False, False, ..., False, False, False]]))"
      ]
     },
     "execution_count": 230,
     "metadata": {},
     "output_type": "execute_result"
    }
   ],
   "source": [
    "def convert_ratings(orig_r_user_item):\n",
    "    \"\"\"\n",
    "    Unknown ratings => self.unknown_rating_val\n",
    "    Positive ratings = ratings >= pos_rating_threshold => 1\n",
    "    Negative ratings => 0\n",
    "    \"\"\"\n",
    "    R = np.copy(orig_r_user_item)\n",
    "    \n",
    "    unknown_rating = 0\n",
    "    R[R == 0] = 10\n",
    "    R[R < pos_rating_threshold] = -1\n",
    "    R[R == 10] = 0\n",
    "    R[R >= pos_rating_threshold] = 1\n",
    "    print(\"Positive ratings (>={}) turned to {}, negative to {}, unknown to {}\"\n",
    "            .format(4, 1, -1, 0))\n",
    "\n",
    "    R_map = R != unknown_rating\n",
    "    return R, R_map\n",
    "\n",
    "r_converted, r_map = convert_ratings(orig_r_user_item)\n",
    "r_converted, r_map"
   ]
  },
  {
   "cell_type": "markdown",
   "metadata": {},
   "source": [
    "### Item information:"
   ]
  },
  {
   "cell_type": "code",
   "execution_count": 231,
   "metadata": {},
   "outputs": [
    {
     "name": "stdout",
     "output_type": "stream",
     "text": [
      "(3952, 19) (3952,)\n",
      "[0. 0. 0. 1. 1. 1. 0. 0. 0. 0. 0. 0. 0. 0. 0. 0. 0. 0. 0.]\n",
      "Toy Story (1995)\n"
     ]
    }
   ],
   "source": [
    "item_genres = np.zeros(shape=(num_items, num_genres), dtype=float)\n",
    "item_titles = np.empty(shape=(num_items,), dtype=object)\n",
    "filepath = \"./ml-1m/movies.dat\"\n",
    "with open(filepath, encoding=STRING_ENCODING) as f:\n",
    "    for line in f:\n",
    "        record = line.split('::')\n",
    "        movie_id = int(record[0]) - 1  \n",
    "        title = record[1]\n",
    "        item_titles[movie_id] = title\n",
    "        g = [int(genre_names.get((index).strip())) for index in record[2].split(\"|\")]\n",
    "        data = np.zeros(shape=(num_genres), dtype=float)\n",
    "        for index in g:\n",
    "            data[index] = 1\n",
    "        item_genres[movie_id] = data\n",
    "\n",
    "print(item_genres.shape, item_titles.shape)\n",
    "print(item_genres[0])\n",
    "print(item_titles[0])\n"
   ]
  },
  {
   "cell_type": "code",
   "execution_count": 232,
   "metadata": {},
   "outputs": [
    {
     "name": "stdout",
     "output_type": "stream",
     "text": [
      "3971\n",
      "Statistics about converted rates matrix:\n"
     ]
    }
   ],
   "source": [
    "current_user_idx = 0\n",
    "user_indexes = np.array(range(r_converted.shape[0])) \n",
    "np.random.shuffle(user_indexes)\n",
    "\n",
    "\n",
    "item_feature_dim = item_genres.shape[1] + r_converted.shape[1]\n",
    "print(item_feature_dim)\n",
    "print('Statistics about converted rates matrix:')\n",
    "# self.get_statistics()\n"
   ]
  },
  {
   "cell_type": "code",
   "execution_count": 233,
   "metadata": {},
   "outputs": [
    {
     "name": "stdout",
     "output_type": "stream",
     "text": [
      "Number of users:           6040\n",
      "Number of items:           3952\n",
      "Total number of ratings:   23870080\n",
      "Known ratings:             1000209\n",
      "Known positive ratings:    575281\n",
      "Known negative ratings:    424928\n",
      "Ratio of known ratings:    0.04190220560634904\n",
      "Ratio of positive ratings: 0.024100505737726895\n",
      "Ratio of negative ratings: 0.01780169986862214\n",
      "Avg number of positive ratings per user: 95.2451986754967\n",
      "Avg number of negative ratings per user: 70.3523178807947\n"
     ]
    }
   ],
   "source": [
    "def rating_matrix_info(r_converted):\n",
    "    total_rates = r_converted.size\n",
    "    no_rates = len(r_converted[r_converted != 0])\n",
    "    no_pos_rates = len(r_converted[r_converted == 1])\n",
    "    no_neg_rates = len(r_converted[r_converted == -1])\n",
    "\n",
    "    user_pos_rates = np.zeros(shape=(r_converted.shape[0],), dtype=int)\n",
    "    user_neg_rates = np.zeros(shape=(r_converted.shape[0],), dtype=int)\n",
    "    for u in range(r_converted.shape[0]):\n",
    "        user = r_converted[u]\n",
    "        user_pos_rates[u] = len(user[user == 1])\n",
    "        user_neg_rates[u] = len(user[user == -1])\n",
    "\n",
    "    user_pos_rates_avg = np.average(user_pos_rates)\n",
    "    user_neg_rates_avg = np.average(user_neg_rates)\n",
    "\n",
    "    print('Number of users:          ', r_converted.shape[0])\n",
    "    print('Number of items:          ', r_converted.shape[1])\n",
    "    print('Total number of ratings:  ', total_rates)\n",
    "    print('Known ratings:            ', no_rates)\n",
    "    print('Known positive ratings:   ', no_pos_rates)\n",
    "    print('Known negative ratings:   ', no_neg_rates)\n",
    "    print('Ratio of known ratings:   ', no_rates / total_rates)\n",
    "    print('Ratio of positive ratings:', no_pos_rates / total_rates)\n",
    "    print('Ratio of negative ratings:', no_neg_rates / total_rates)\n",
    "    print('Avg number of positive ratings per user: {}'.format(user_pos_rates_avg))\n",
    "    print('Avg number of negative ratings per user: {}'.format(user_neg_rates_avg))\n",
    "\n",
    "rating_matrix_info(r_converted)\n",
    "    \n"
   ]
  },
  {
   "cell_type": "markdown",
   "metadata": {},
   "source": [
    "### get a slice of the item user matrix:"
   ]
  },
  {
   "cell_type": "code",
   "execution_count": 234,
   "metadata": {},
   "outputs": [
    {
     "name": "stdout",
     "output_type": "stream",
     "text": [
      "sliced rating matrix from (6040, 3952) to (152, 100).\n",
      "Number of users:           152\n",
      "Number of items:           100\n",
      "Total number of ratings:   15200\n",
      "Known ratings:             716\n",
      "Known positive ratings:    427\n",
      "Known negative ratings:    289\n",
      "Ratio of known ratings:    0.04710526315789473\n",
      "Ratio of positive ratings: 0.028092105263157894\n",
      "Ratio of negative ratings: 0.019013157894736843\n",
      "Avg number of positive ratings per user: 2.8092105263157894\n",
      "Avg number of negative ratings per user: 1.9013157894736843\n"
     ]
    }
   ],
   "source": [
    "item_slice = 100\n",
    "slice_ratio = num_items / item_slice\n",
    "max_users = int(num_users / slice_ratio)\n",
    "\n",
    "r_converted = r_converted[0:max_users, 0:item_slice]\n",
    "r_map = r_map[0:max_users, 0:item_slice]\n",
    "num_users = r_converted.shape[0]\n",
    "num_items = r_converted.shape[1]\n",
    "item_genres = item_genres[0:num_items]\n",
    "item_titles = item_titles[0:num_items]\n",
    "user_indexes = np.array(range(r_converted.shape[0]))  \n",
    "np.random.shuffle(user_indexes)\n",
    "\n",
    "item_feature_dim = item_genres.shape[1] + r_converted.shape[1]\n",
    "print(\"sliced rating matrix from {} to {}.\".format(orig_r_user_item.shape, r_converted.shape))\n",
    "\n",
    "rating_matrix_info(r_converted)\n",
    "\n",
    "        "
   ]
  },
  {
   "cell_type": "code",
   "execution_count": 235,
   "metadata": {},
   "outputs": [
    {
     "name": "stdout",
     "output_type": "stream",
     "text": [
      "Number of users:           152\n",
      "Number of items:           100\n",
      "Total number of ratings:   15200\n",
      "Known ratings:             1706\n",
      "Known positive ratings:    922\n",
      "Known negative ratings:    784\n",
      "Ratio of known ratings:    0.11223684210526316\n",
      "Ratio of positive ratings: 0.060657894736842105\n",
      "Ratio of negative ratings: 0.05157894736842105\n",
      "Avg number of positive ratings per user: 6.065789473684211\n",
      "Avg number of negative ratings per user: 5.157894736842105\n"
     ]
    }
   ],
   "source": [
    "no_items = r_converted.shape[1]\n",
    "no_users = r_converted.shape[0]\n",
    "for u in range(no_users):\n",
    "    ids = np.random.randint(no_items, size=7)\n",
    "    new_ratings = np.random.randint(2, size=7) * 2 - np.ones(shape=(7,), dtype=int)\n",
    "    r_converted[u][ids] = new_ratings\n",
    "                                                             \n",
    "rating_matrix_info(r_converted)  \n",
    "    "
   ]
  },
  {
   "cell_type": "code",
   "execution_count": 236,
   "metadata": {},
   "outputs": [
    {
     "name": "stdout",
     "output_type": "stream",
     "text": [
      "(100, 119, 119)\n",
      "[[1. 0. 0. ... 0. 0. 0.]\n",
      " [0. 1. 0. ... 0. 0. 0.]\n",
      " [0. 0. 1. ... 0. 0. 0.]\n",
      " ...\n",
      " [0. 0. 0. ... 1. 0. 0.]\n",
      " [0. 0. 0. ... 0. 1. 0.]\n",
      " [0. 0. 0. ... 0. 0. 1.]]\n"
     ]
    }
   ],
   "source": [
    "alpha = 0.1\n",
    "fixed_rewards = True\n",
    "prob_reward = 0.9\n",
    "users_with_unrated_items = np.array(range(num_users))\n",
    "monitored_user = np.random.choice(users_with_unrated_items)\n",
    "d = item_feature_dim\n",
    "b = np.zeros(shape=(num_items, d))\n",
    "\n",
    "A = np.repeat(np.identity(d, dtype=float)[np.newaxis, :, :], num_items, axis=0)\n",
    "print(A.shape)\n",
    "print(A[0])\n",
    "\n"
   ]
  },
  {
   "cell_type": "code",
   "execution_count": 237,
   "metadata": {},
   "outputs": [],
   "source": [
    "def get_features_of_current_arms(t):\n",
    "    t = t % num_users\n",
    "    user_features = r_converted[t]  \n",
    "    user_features = np.tile(user_features, (num_items, 1))  \n",
    "    item_features = item_genres\n",
    "    arm_features = np.concatenate((user_features, item_features), axis=1)\n",
    "    return arm_features\n",
    "    "
   ]
  },
  {
   "cell_type": "code",
   "execution_count": 238,
   "metadata": {},
   "outputs": [],
   "source": [
    "def get_uknown_items_of_user(user_id):\n",
    "    user_ratings = r_converted[user_id] \n",
    "    unknown_item_ids = np.argwhere(user_ratings == 0).flatten()\n",
    "    return unknown_item_ids\n",
    "\n",
    "global current_user_idx\n",
    "\n",
    "current_user_idx = 0\n",
    "\n",
    "def get_next_user():\n",
    "    global current_user_idx\n",
    "    if current_user_idx == r_converted.shape[0]:\n",
    "        current_user_idx = 0\n",
    "        np.random.shuffle(user_indexes)\n",
    "\n",
    "    next_user_id = user_indexes[current_user_idx]\n",
    "    current_user_idx += 1\n",
    "    return next_user_id\n"
   ]
  },
  {
   "cell_type": "code",
   "execution_count": 239,
   "metadata": {},
   "outputs": [],
   "source": [
    "def recommend(user_id, item_id, fixed_rewards=True, prob_reward=0.9):\n",
    "    \"\"\"\n",
    "    Returns reward and updates rating maatrix self.R.\n",
    "    :param fixed_rewards: Whether to always return 1/0 rewards for already rated items.\n",
    "    :param prob_reward: Probability of returning the correct reward for already rated item.\n",
    "    :return: Reward = either 0 or 1.\n",
    "    \"\"\"\n",
    "    MIN_PROBABILITY = 0 \n",
    "    if r_converted[user_id, item_id] == 1:\n",
    "        if fixed_rewards:\n",
    "            return 1\n",
    "        else:\n",
    "            return np.random.binomial(n=1, p=prob_reward)  # Bernoulli coin toss\n",
    "    elif r_converted[user_id, item_id] == -1:\n",
    "        if fixed_rewards:\n",
    "            return 0\n",
    "        else:\n",
    "            return np.random.binomial(n=1, p=1-prob_reward)  \n",
    "    else:\n",
    "        item_g = item_genres[item_id]\n",
    "        user_ratings = r_converted[user_id]\n",
    "        user_pos_rat_idxs = np.argwhere(user_ratings == 1).flatten()\n",
    "        user_neg_rat_idxs = np.argwhere(user_ratings == -1).flatten()\n",
    "        num_known_ratings = len(user_pos_rat_idxs) + len(user_neg_rat_idxs)\n",
    "        genre_idxs = np.argwhere(item_g == 1).flatten()\n",
    "\n",
    "        genre_likabilities = []\n",
    "        for genre_idx in genre_idxs:\n",
    "            genre_likability = 0\n",
    "            for item_idx in user_pos_rat_idxs:\n",
    "                genre_likability += item_genres[item_idx][genre_idx]\n",
    "            for item_idx in user_neg_rat_idxs:\n",
    "                genre_likability -= item_genres[item_idx][genre_idx]\n",
    "            genre_likability /= num_known_ratings\n",
    "            genre_likabilities.append(genre_likability)\n",
    "\n",
    "        genre_likabilities = np.array(genre_likabilities)\n",
    "        if(len(genre_likabilities) == 0):\n",
    "            binomial_reward_probability = MIN_PROBABILITY\n",
    "        else:\n",
    "            result_genre_likability = np.average(genre_likabilities)\n",
    "            binomial_reward_probability = result_genre_likability\n",
    "        \n",
    "        if np.isnan(binomial_reward_probability) or binomial_reward_probability <= 0:\n",
    "            binomial_reward_probability = MIN_PROBABILITY \n",
    "\n",
    "        approx_rating = np.random.binomial(n=1, p=binomial_reward_probability)  \n",
    "\n",
    "        if approx_rating == 1:\n",
    "            r_converted[user_id, item_id] = 1\n",
    "        else:\n",
    "            r_converted[user_id, item_id] = -1\n",
    "\n",
    "        #return approx_rating\n",
    "        return approx_rating"
   ]
  },
  {
   "cell_type": "code",
   "execution_count": 240,
   "metadata": {},
   "outputs": [],
   "source": [
    "def linucb(t, unknown_item_ids):\n",
    "    arm_features = get_features_of_current_arms(t=t)\n",
    "    p_t = np.zeros(shape=(arm_features.shape[0],), dtype=float)\n",
    "    p_t -= 9999  \n",
    "    item_ids = unknown_item_ids\n",
    "\n",
    "    item_ids = range(num_items)\n",
    "    p_t += 9999\n",
    "\n",
    "    for a in item_ids:  \n",
    "        x_ta = arm_features[a].reshape(arm_features[a].shape[0], 1)  \n",
    "        A_a_inv = np.linalg.inv(A[a])\n",
    "        theta_a = A_a_inv.dot(b[a])\n",
    "        p_t[a] = theta_a.T.dot(x_ta) + alpha * np.sqrt(x_ta.T.dot(A_a_inv).dot(x_ta))\n",
    "\n",
    "    max_p_t = np.max(p_t)\n",
    "    if max_p_t <= 0:\n",
    "        print(\"User {} has max p_t={}, p_t={}\".format(t, max_p_t, p_t))\n",
    "\n",
    "    \n",
    "    max_idxs = np.argwhere(p_t == max_p_t).flatten()\n",
    "    a_t = np.random.choice(max_idxs)  \n",
    "\n",
    "    # observed reward = 1/0\n",
    "    r_t = recommend(user_id=t, item_id=a_t, \n",
    "                                 fixed_rewards=fixed_rewards, \n",
    "                                 prob_reward=prob_reward)\n",
    "\n",
    "    x_t_at = arm_features[a_t].reshape(arm_features[a_t].shape[0], 1) \n",
    "    A[a_t] = A[a_t] + x_t_at.dot(x_t_at.T)\n",
    "    b[a_t] = b[a_t] + r_t * x_t_at.flatten()  \n",
    "\n",
    "    return r_t"
   ]
  },
  {
   "cell_type": "markdown",
   "metadata": {},
   "source": [
    "### learning:"
   ]
  },
  {
   "cell_type": "code",
   "execution_count": 241,
   "metadata": {},
   "outputs": [
    {
     "name": "stdout",
     "output_type": "stream",
     "text": [
      "Finished epoch 1/100 with avg reward 0.2895\n",
      "Finished epoch 2/100 with avg reward 0.4276\n",
      "Finished epoch 3/100 with avg reward 0.5395\n",
      "Finished epoch 4/100 with avg reward 0.5987\n",
      "Finished epoch 5/100 with avg reward 0.6316\n",
      "Finished epoch 6/100 with avg reward 0.6513\n",
      "Finished epoch 7/100 with avg reward 0.6711\n",
      "Finished epoch 8/100 with avg reward 0.6974\n",
      "Finished epoch 9/100 with avg reward 0.6974\n",
      "Finished epoch 10/100 with avg reward 0.7171\n",
      "Finished epoch 11/100 with avg reward 0.7303\n",
      "Finished epoch 12/100 with avg reward 0.7303\n",
      "Finished epoch 13/100 with avg reward 0.7368\n",
      "Finished epoch 14/100 with avg reward 0.7697\n",
      "Finished epoch 15/100 with avg reward 0.7895\n",
      "Finished epoch 16/100 with avg reward 0.8026\n",
      "Finished epoch 17/100 with avg reward 0.7961\n",
      "Finished epoch 18/100 with avg reward 0.8224\n",
      "Finished epoch 19/100 with avg reward 0.8289\n",
      "Finished epoch 20/100 with avg reward 0.8355\n",
      "Finished epoch 21/100 with avg reward 0.8421\n",
      "Finished epoch 22/100 with avg reward 0.8487\n",
      "Finished epoch 23/100 with avg reward 0.8553\n",
      "Finished epoch 24/100 with avg reward 0.8618\n",
      "Finished epoch 25/100 with avg reward 0.8684\n",
      "Finished epoch 26/100 with avg reward 0.8750\n",
      "Finished epoch 27/100 with avg reward 0.8816\n",
      "Finished epoch 28/100 with avg reward 0.8882\n",
      "Finished epoch 29/100 with avg reward 0.8882\n",
      "Finished epoch 30/100 with avg reward 0.8882\n",
      "Finished epoch 31/100 with avg reward 0.9013\n",
      "Finished epoch 32/100 with avg reward 0.9013\n",
      "Finished epoch 33/100 with avg reward 0.9013\n",
      "Finished epoch 34/100 with avg reward 0.9079\n",
      "Finished epoch 35/100 with avg reward 0.9079\n",
      "Finished epoch 36/100 with avg reward 0.9079\n",
      "Finished epoch 37/100 with avg reward 0.9145\n",
      "Finished epoch 38/100 with avg reward 0.9145\n",
      "Finished epoch 39/100 with avg reward 0.9211\n",
      "Finished epoch 40/100 with avg reward 0.9276\n",
      "Finished epoch 41/100 with avg reward 0.9408\n",
      "Finished epoch 42/100 with avg reward 0.9408\n",
      "Finished epoch 43/100 with avg reward 0.9408\n",
      "Finished epoch 44/100 with avg reward 0.9474\n",
      "Finished epoch 45/100 with avg reward 0.9539\n",
      "Finished epoch 46/100 with avg reward 0.9605\n",
      "Finished epoch 47/100 with avg reward 0.9605\n",
      "Finished epoch 48/100 with avg reward 0.9671\n",
      "Finished epoch 49/100 with avg reward 0.9671\n",
      "Finished epoch 50/100 with avg reward 0.9671\n",
      "Finished epoch 51/100 with avg reward 0.9671\n",
      "Finished epoch 52/100 with avg reward 0.9671\n",
      "Finished epoch 53/100 with avg reward 0.9737\n",
      "Finished epoch 54/100 with avg reward 0.9737\n",
      "Finished epoch 55/100 with avg reward 0.9737\n",
      "Finished epoch 56/100 with avg reward 0.9737\n",
      "Finished epoch 57/100 with avg reward 0.9737\n",
      "Finished epoch 58/100 with avg reward 0.9737\n",
      "Finished epoch 59/100 with avg reward 0.9737\n",
      "Finished epoch 60/100 with avg reward 0.9737\n",
      "Finished epoch 61/100 with avg reward 0.9737\n",
      "Finished epoch 62/100 with avg reward 0.9737\n",
      "Finished epoch 63/100 with avg reward 0.9737\n",
      "Finished epoch 64/100 with avg reward 0.9737\n",
      "Finished epoch 65/100 with avg reward 0.9737\n",
      "Finished epoch 66/100 with avg reward 0.9737\n",
      "Finished epoch 67/100 with avg reward 0.9737\n",
      "Finished epoch 68/100 with avg reward 0.9737\n",
      "Finished epoch 69/100 with avg reward 0.9737\n",
      "Finished epoch 70/100 with avg reward 0.9737\n",
      "Finished epoch 71/100 with avg reward 0.9737\n",
      "Finished epoch 72/100 with avg reward 0.9737\n",
      "Finished epoch 73/100 with avg reward 0.9737\n",
      "Finished epoch 74/100 with avg reward 0.9803\n",
      "Finished epoch 75/100 with avg reward 0.9803\n",
      "Finished epoch 76/100 with avg reward 0.9803\n",
      "Finished epoch 77/100 with avg reward 0.9803\n",
      "Finished epoch 78/100 with avg reward 0.9803\n",
      "Finished epoch 79/100 with avg reward 0.9803\n",
      "Finished epoch 80/100 with avg reward 0.9803\n",
      "Finished epoch 81/100 with avg reward 0.9803\n",
      "Finished epoch 82/100 with avg reward 0.9803\n",
      "Finished epoch 83/100 with avg reward 0.9803\n",
      "Finished epoch 84/100 with avg reward 0.9803\n",
      "Finished epoch 85/100 with avg reward 0.9868\n",
      "Finished epoch 86/100 with avg reward 0.9868\n",
      "Finished epoch 87/100 with avg reward 0.9868\n",
      "Finished epoch 88/100 with avg reward 0.9868\n",
      "Finished epoch 89/100 with avg reward 0.9868\n",
      "Finished epoch 90/100 with avg reward 0.9868\n",
      "Finished epoch 91/100 with avg reward 0.9868\n",
      "Finished epoch 92/100 with avg reward 0.9868\n",
      "Finished epoch 93/100 with avg reward 0.9868\n",
      "Finished epoch 94/100 with avg reward 0.9868\n",
      "Finished epoch 95/100 with avg reward 0.9868\n",
      "Finished epoch 96/100 with avg reward 0.9868\n",
      "Finished epoch 97/100 with avg reward 0.9868\n",
      "Finished epoch 98/100 with avg reward 0.9868\n",
      "Finished epoch 99/100 with avg reward 0.9868\n",
      "Finished epoch 100/100 with avg reward 0.9868\n"
     ]
    }
   ],
   "source": [
    "num_epochs = 100\n",
    "users_with_unrated_items = np.array(range(num_users))\n",
    "final_avg_rewards = np.zeros(shape=(num_epochs,), dtype=float)\n",
    "final_rewards = np.zeros(shape=(num_epochs, num_users), dtype=float)\n",
    "for i in range(num_epochs):\n",
    "    rewards = []\n",
    "    for j in range(num_users):\n",
    "        user_id = get_next_user()\n",
    "        unknown_item_ids = get_uknown_items_of_user(user_id)\n",
    "\n",
    "        rewards.append(linucb(user_id, unknown_item_ids))\n",
    "    avg_reward = np.average(np.array(rewards))\n",
    "    final_rewards[i] = rewards\n",
    "    final_avg_rewards[i] = avg_reward\n",
    "    print(\"Finished epoch {}/{} with avg reward {:.4f}\"\n",
    "          .format(i + 1, num_epochs, avg_reward))\n",
    "    \n",
    "users_rewards = np.sum(final_rewards, axis=0)\n",
    "# final_avg_rewards, users_rewards\n"
   ]
  },
  {
   "cell_type": "code",
   "execution_count": 280,
   "metadata": {},
   "outputs": [
    {
     "data": {
      "text/plain": [
       "<matplotlib.legend.Legend at 0x18341bb710>"
      ]
     },
     "execution_count": 280,
     "metadata": {},
     "output_type": "execute_result"
    },
    {
     "data": {
      "image/png": "[encoded data removed]",
      "text/plain": [
       "<matplotlib.figure.Figure at 0x18341a0208>"
      ]
     },
     "metadata": {},
     "output_type": "display_data"
    }
   ],
   "source": [
    "plt.figure(figsize=(8, 6))\n",
    "plt.plot(final_avg_rewards, label=\"avg rewards\")\n",
    "plt.legend()\n"
   ]
  },
  {
   "cell_type": "markdown",
   "metadata": {},
   "source": [
    "## HybridLinUCB"
   ]
  },
  {
   "cell_type": "code",
   "execution_count": 265,
   "metadata": {},
   "outputs": [
    {
     "name": "stdout",
     "output_type": "stream",
     "text": [
      "(119, 119)\n",
      "[[1. 0. 0. ... 0. 0. 0.]\n",
      " [0. 1. 0. ... 0. 0. 0.]\n",
      " [0. 0. 1. ... 0. 0. 0.]\n",
      " ...\n",
      " [0. 0. 0. ... 1. 0. 0.]\n",
      " [0. 0. 0. ... 0. 1. 0.]\n",
      " [0. 0. 0. ... 0. 0. 1.]]\n"
     ]
    }
   ],
   "source": [
    "global b\n",
    "global k\n",
    "global A0\n",
    "global b0\n",
    "global d\n",
    "global A\n",
    "global B\n",
    "d = item_feature_dim \n",
    "k = num_genres \n",
    "A0 = np.identity(k, dtype=float)\n",
    "b0 = np.zeros(shape=(k, 1), dtype=float)\n",
    "b = np.zeros(shape=(num_items, d), dtype=float)\n",
    "B = np.zeros(shape=(num_items, d, k), dtype=float)\n",
    "A = np.repeat(np.identity(d, dtype=float)[np.newaxis, :, :], num_items, axis=0)\n",
    "print(A[0].shape)\n",
    "print(A[0])\n"
   ]
  },
  {
   "cell_type": "code",
   "execution_count": 268,
   "metadata": {},
   "outputs": [],
   "source": [
    "def hybrid_linucb(t, unknown_item_ids):\n",
    "    global b\n",
    "    global k\n",
    "    global A0\n",
    "    global b0\n",
    "    global d\n",
    "    global A\n",
    "    global B\n",
    "    A = A\n",
    "    A0 = A0\n",
    "    B = B\n",
    "    b = b\n",
    "    b0 = b0\n",
    "    arm_features = get_features_of_current_arms(t=t)\n",
    "    p_t = np.zeros(shape=(arm_features.shape[0],), dtype=float)\n",
    "    p_t -= 9999  \n",
    "    item_ids = unknown_item_ids\n",
    "    item_ids = range(num_items)\n",
    "    p_t += 9999\n",
    "\n",
    "    A0_inv = np.linalg.inv(A0)\n",
    "    beta = A0_inv.dot(b0)\n",
    "    for a in item_ids:  \n",
    "        x_ta = arm_features[a].reshape(-1, 1)  \n",
    "        z_ta = item_genres[a].reshape(-1, 1)  \n",
    "        A_a_inv = np.linalg.inv(A[a])\n",
    "        b_a = b[a].reshape(-1, 1)  \n",
    "\n",
    "        theta_a = A_a_inv.dot(b_a - B[a].dot(beta))\n",
    "        s_ta = z_ta.T.dot(A0_inv).dot(z_ta) - 2 * z_ta.T.dot(A0_inv).dot(B[a].T).dot(A_a_inv).dot(x_ta)\n",
    "            \n",
    "        s_ta += x_ta.T.dot(A_a_inv).dot(x_ta) + x_ta.T.dot(A_a_inv).dot(B[a]).dot(A0_inv).dot(B[a].T).dot(A_a_inv).dot(x_ta)\n",
    "\n",
    "        p_t[a] = (z_ta.T.dot(beta) + x_ta.T.dot(theta_a)).flatten() + alpha * np.sqrt(s_ta)\n",
    "\n",
    "    max_p_t = np.max(p_t)\n",
    "    max_idxs = np.argwhere(p_t == max_p_t).flatten()\n",
    "    a_t = np.random.choice(max_idxs)  \n",
    "    r_t = recommend(user_id=t, \n",
    "                    item_id=a_t,\n",
    "                    fixed_rewards=fixed_rewards,\n",
    "                    prob_reward=prob_reward)\n",
    "\n",
    "    x_t_at = arm_features[a_t].reshape(-1, 1)  \n",
    "    z_t_at = item_genres[a_t].reshape(-1, 1)  \n",
    "    A_at_inv = np.linalg.inv(A[a_t])\n",
    "\n",
    "    A0 = A0 + B[a_t].T.dot(A_at_inv).dot(B[a_t])\n",
    "    b0 = b0 + B[a_t].T.dot(A_at_inv).dot(b[a_t].reshape(-1, 1))\n",
    "    A[a_t] = A[a_t] + x_t_at.dot(x_t_at.T)\n",
    "    B[a_t] = B[a_t] + x_t_at.dot(z_t_at.T)\n",
    "    b[a_t] = b[a_t] + r_t * x_t_at.flatten()  \n",
    "    A0 = A0 + z_t_at.dot(z_t_at.T) - B[a_t].T.dot(A_at_inv).dot(B[a_t])\n",
    "    b0 = b0 + r_t * z_t_at - B[a_t].T.dot(A_at_inv).dot(b[a_t].reshape(-1, 1))\n",
    "    return r_t\n"
   ]
  },
  {
   "cell_type": "markdown",
   "metadata": {},
   "source": [
    "### learning:"
   ]
  },
  {
   "cell_type": "code",
   "execution_count": 269,
   "metadata": {},
   "outputs": [
    {
     "name": "stdout",
     "output_type": "stream",
     "text": [
      "Finished epoch 1/100 with avg reward 0.1974\n",
      "Finished epoch 2/100 with avg reward 0.3487\n",
      "Finished epoch 3/100 with avg reward 0.4145\n",
      "Finished epoch 4/100 with avg reward 0.4803\n",
      "Finished epoch 5/100 with avg reward 0.5329\n",
      "Finished epoch 6/100 with avg reward 0.5855\n",
      "Finished epoch 7/100 with avg reward 0.6250\n",
      "Finished epoch 8/100 with avg reward 0.6118\n",
      "Finished epoch 9/100 with avg reward 0.6645\n",
      "Finished epoch 10/100 with avg reward 0.6908\n",
      "Finished epoch 11/100 with avg reward 0.7237\n",
      "Finished epoch 12/100 with avg reward 0.7895\n",
      "Finished epoch 13/100 with avg reward 0.7829\n",
      "Finished epoch 14/100 with avg reward 0.7895\n",
      "Finished epoch 15/100 with avg reward 0.8289\n",
      "Finished epoch 16/100 with avg reward 0.8092\n",
      "Finished epoch 17/100 with avg reward 0.8224\n",
      "Finished epoch 18/100 with avg reward 0.8158\n",
      "Finished epoch 19/100 with avg reward 0.8487\n",
      "Finished epoch 20/100 with avg reward 0.8618\n",
      "Finished epoch 21/100 with avg reward 0.8816\n",
      "Finished epoch 22/100 with avg reward 0.8684\n",
      "Finished epoch 23/100 with avg reward 0.8816\n",
      "Finished epoch 24/100 with avg reward 0.8816\n",
      "Finished epoch 25/100 with avg reward 0.8816\n",
      "Finished epoch 26/100 with avg reward 0.8882\n",
      "Finished epoch 27/100 with avg reward 0.8882\n",
      "Finished epoch 28/100 with avg reward 0.9079\n",
      "Finished epoch 29/100 with avg reward 0.9013\n",
      "Finished epoch 30/100 with avg reward 0.9145\n",
      "Finished epoch 31/100 with avg reward 0.9145\n",
      "Finished epoch 32/100 with avg reward 0.9211\n",
      "Finished epoch 33/100 with avg reward 0.9145\n",
      "Finished epoch 34/100 with avg reward 0.9211\n",
      "Finished epoch 35/100 with avg reward 0.9211\n",
      "Finished epoch 36/100 with avg reward 0.9145\n",
      "Finished epoch 37/100 with avg reward 0.9145\n",
      "Finished epoch 38/100 with avg reward 0.9276\n",
      "Finished epoch 39/100 with avg reward 0.9211\n",
      "Finished epoch 40/100 with avg reward 0.9342\n",
      "Finished epoch 41/100 with avg reward 0.9474\n",
      "Finished epoch 42/100 with avg reward 0.9408\n",
      "Finished epoch 43/100 with avg reward 0.9342\n",
      "Finished epoch 44/100 with avg reward 0.9474\n",
      "Finished epoch 45/100 with avg reward 0.9474\n",
      "Finished epoch 46/100 with avg reward 0.9539\n",
      "Finished epoch 47/100 with avg reward 0.9474\n",
      "Finished epoch 48/100 with avg reward 0.9474\n",
      "Finished epoch 49/100 with avg reward 0.9474\n",
      "Finished epoch 50/100 with avg reward 0.9605\n",
      "Finished epoch 51/100 with avg reward 0.9671\n",
      "Finished epoch 52/100 with avg reward 0.9671\n",
      "Finished epoch 53/100 with avg reward 0.9737\n",
      "Finished epoch 54/100 with avg reward 0.9737\n",
      "Finished epoch 55/100 with avg reward 0.9671\n",
      "Finished epoch 56/100 with avg reward 0.9803\n",
      "Finished epoch 57/100 with avg reward 0.9737\n",
      "Finished epoch 58/100 with avg reward 0.9737\n",
      "Finished epoch 59/100 with avg reward 0.9737\n",
      "Finished epoch 60/100 with avg reward 0.9737\n",
      "Finished epoch 61/100 with avg reward 0.9737\n",
      "Finished epoch 62/100 with avg reward 0.9803\n",
      "Finished epoch 63/100 with avg reward 0.9803\n",
      "Finished epoch 64/100 with avg reward 0.9803\n",
      "Finished epoch 65/100 with avg reward 0.9803\n",
      "Finished epoch 66/100 with avg reward 0.9737\n",
      "Finished epoch 67/100 with avg reward 0.9868\n",
      "Finished epoch 68/100 with avg reward 0.9934\n",
      "Finished epoch 69/100 with avg reward 0.9868\n",
      "Finished epoch 70/100 with avg reward 0.9868\n",
      "Finished epoch 71/100 with avg reward 0.9868\n",
      "Finished epoch 72/100 with avg reward 0.9934\n",
      "Finished epoch 73/100 with avg reward 0.9868\n",
      "Finished epoch 74/100 with avg reward 0.9934\n",
      "Finished epoch 75/100 with avg reward 0.9934\n",
      "Finished epoch 76/100 with avg reward 0.9868\n",
      "Finished epoch 77/100 with avg reward 1.0000\n",
      "Finished epoch 78/100 with avg reward 0.9934\n",
      "Finished epoch 79/100 with avg reward 0.9934\n",
      "Finished epoch 80/100 with avg reward 0.9868\n",
      "Finished epoch 81/100 with avg reward 0.9934\n",
      "Finished epoch 82/100 with avg reward 0.9934\n",
      "Finished epoch 83/100 with avg reward 0.9934\n",
      "Finished epoch 84/100 with avg reward 0.9934\n",
      "Finished epoch 85/100 with avg reward 0.9934\n",
      "Finished epoch 86/100 with avg reward 0.9934\n",
      "Finished epoch 87/100 with avg reward 0.9868\n",
      "Finished epoch 88/100 with avg reward 0.9934\n",
      "Finished epoch 89/100 with avg reward 0.9934\n",
      "Finished epoch 90/100 with avg reward 0.9868\n",
      "Finished epoch 91/100 with avg reward 0.9934\n",
      "Finished epoch 92/100 with avg reward 0.9868\n",
      "Finished epoch 93/100 with avg reward 0.9934\n",
      "Finished epoch 94/100 with avg reward 0.9934\n",
      "Finished epoch 95/100 with avg reward 0.9934\n",
      "Finished epoch 96/100 with avg reward 0.9934\n",
      "Finished epoch 97/100 with avg reward 0.9934\n",
      "Finished epoch 98/100 with avg reward 0.9868\n",
      "Finished epoch 99/100 with avg reward 0.9868\n",
      "Finished epoch 100/100 with avg reward 0.9868\n"
     ]
    }
   ],
   "source": [
    "num_epochs = 100\n",
    "users_with_unrated_items = np.array(range(num_users))\n",
    "hybrid_final_avg_rewards = np.zeros(shape=(num_epochs,), dtype=float)\n",
    "hybrid_final_rewards = np.zeros(shape=(num_epochs, num_users), dtype=float)\n",
    "for i in range(num_epochs):\n",
    "    rewards = []\n",
    "    for j in range(num_users):\n",
    "        user_id = get_next_user()\n",
    "        unknown_item_ids = get_uknown_items_of_user(user_id)\n",
    "\n",
    "        rewards.append(hybrid_linucb(user_id, unknown_item_ids))\n",
    "    avg_reward = np.average(np.array(rewards))\n",
    "    hybrid_final_rewards[i] = rewards\n",
    "    hybrid_final_avg_rewards[i] = avg_reward\n",
    "    print(\"Finished epoch {}/{} with avg reward {:.4f}\"\n",
    "          .format(i + 1, num_epochs, avg_reward))\n",
    "    \n",
    "users_rewards = np.sum(hybrid_final_rewards, axis=0)\n",
    "# final_avg_rewards, users_rewards\n"
   ]
  },
  {
   "cell_type": "code",
   "execution_count": 279,
   "metadata": {},
   "outputs": [
    {
     "data": {
      "text/plain": [
       "<matplotlib.legend.Legend at 0x18342c2780>"
      ]
     },
     "execution_count": 279,
     "metadata": {},
     "output_type": "execute_result"
    },
    {
     "data": {
      "image/png": "[encoded data removed]",
      "text/plain": [
       "<matplotlib.figure.Figure at 0x183438b3c8>"
      ]
     },
     "metadata": {},
     "output_type": "display_data"
    }
   ],
   "source": [
    "plt.figure(figsize=(8, 6))\n",
    "plt.plot(hybrid_final_avg_rewards, label=\"avg rewards\")\n",
    "plt.legend()"
   ]
  },
  {
   "cell_type": "code",
   "execution_count": 277,
   "metadata": {},
   "outputs": [
    {
     "data": {
      "text/plain": [
       "<matplotlib.legend.Legend at 0x185096dcc0>"
      ]
     },
     "execution_count": 277,
     "metadata": {},
     "output_type": "execute_result"
    },
    {
     "data": {
      "image/png": "[encoded data removed]",
      "text/plain": [
       "<matplotlib.figure.Figure at 0x183196ea20>"
      ]
     },
     "metadata": {},
     "output_type": "display_data"
    }
   ],
   "source": [
    "plt.figure(figsize=(10, 8))\n",
    "plt.plot(hybrid_final_avg_rewards, label=\"hybrid linucb\")\n",
    "plt.plot(final_avg_rewards, label=\"linucb\")\n",
    "plt.legend()"
   ]
  },
  {
   "cell_type": "code",
   "execution_count": null,
   "metadata": {},
   "outputs": [],
   "source": []
  }
 ],
 "metadata": {
  "kernelspec": {
   "display_name": "Python 3",
   "language": "python",
   "name": "python3"
  },
  "language_info": {
   "codemirror_mode": {
    "name": "ipython",
    "version": 3
   },
   "file_extension": ".py",
   "mimetype": "text/x-python",
   "name": "python",
   "nbconvert_exporter": "python",
   "pygments_lexer": "ipython3",
   "version": "3.5.5"
  }
 },
 "nbformat": 4,
 "nbformat_minor": 2
}
